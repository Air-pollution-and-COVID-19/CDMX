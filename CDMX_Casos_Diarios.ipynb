{
  "nbformat": 4,
  "nbformat_minor": 0,
  "metadata": {
    "colab": {
      "name": "CDMX_Casos_Diarios.ipynb",
      "provenance": [],
      "authorship_tag": "ABX9TyNa8d39b9H6JlHflkLFDeBu",
      "include_colab_link": true
    },
    "kernelspec": {
      "name": "python3",
      "display_name": "Python 3"
    }
  },
  "cells": [
    {
      "cell_type": "markdown",
      "metadata": {
        "id": "view-in-github",
        "colab_type": "text"
      },
      "source": [
        "<a href=\"https://colab.research.google.com/github/Air-pollution-and-COVID-19/CDMX/blob/master/CDMX_Casos_Diarios.ipynb\" target=\"_parent\"><img src=\"https://colab.research.google.com/assets/colab-badge.svg\" alt=\"Open In Colab\"/></a>"
      ]
    },
    {
      "cell_type": "code",
      "metadata": {
        "id": "DFPfUcoo5viF",
        "colab_type": "code",
        "colab": {}
      },
      "source": [
        "import numpy as np # Load the numpy library\n",
        "import matplotlib.pyplot as plt #Load the pyplot library\n",
        "from matplotlib.dates import date2num, num2date, datetime\n",
        "from matplotlib import rcParams as rcp"
      ],
      "execution_count": null,
      "outputs": []
    },
    {
      "cell_type": "code",
      "metadata": {
        "id": "VE5IjAlzS8UN",
        "colab_type": "code",
        "colab": {}
      },
      "source": [
        "rcp['font.size'] = 18.\n",
        "rcp['lines.linewidth'] = 2.\n",
        "rcp['font.family'] = 'sans serif'"
      ],
      "execution_count": null,
      "outputs": []
    },
    {
      "cell_type": "code",
      "metadata": {
        "id": "CpJYbf0S4yVx",
        "colab_type": "code",
        "colab": {
          "base_uri": "https://localhost:8080/",
          "height": 222
        },
        "outputId": "f489413b-867c-4018-8e69-f35852682a11"
      },
      "source": [
        "!wget http://datosabiertos.salud.gob.mx/gobmx/salud/datos_abiertos/datos_abiertos_covid19.zip"
      ],
      "execution_count": null,
      "outputs": [
        {
          "output_type": "stream",
          "text": [
            "--2020-08-11 23:42:22--  http://datosabiertos.salud.gob.mx/gobmx/salud/datos_abiertos/datos_abiertos_covid19.zip\n",
            "Resolving datosabiertos.salud.gob.mx (datosabiertos.salud.gob.mx)... 187.210.186.146\n",
            "Connecting to datosabiertos.salud.gob.mx (datosabiertos.salud.gob.mx)|187.210.186.146|:80... connected.\n",
            "HTTP request sent, awaiting response... 200 OK\n",
            "Length: 23289594 (22M) [application/x-zip-compressed]\n",
            "Saving to: ‘datos_abiertos_covid19.zip’\n",
            "\n",
            "datos_abiertos_covi 100%[===================>]  22.21M  12.3MB/s    in 1.8s    \n",
            "\n",
            "2020-08-11 23:42:24 (12.3 MB/s) - ‘datos_abiertos_covid19.zip’ saved [23289594/23289594]\n",
            "\n"
          ],
          "name": "stdout"
        }
      ]
    },
    {
      "cell_type": "code",
      "metadata": {
        "id": "LQQ-IwUSE7ea",
        "colab_type": "code",
        "colab": {}
      },
      "source": [
        "#!git clone https://github.com/cdcmx2020a/group_A_AlmaJair.git"
      ],
      "execution_count": null,
      "outputs": []
    },
    {
      "cell_type": "code",
      "metadata": {
        "colab_type": "code",
        "id": "cyTZZZG0uNd9",
        "colab": {}
      },
      "source": [
        "# COVID cases\n",
        "#cases = np.loadtxt('/content/group_A_AlmaJair/datos_covid/diario_estado.csv', delimiter=',') # Loads cases file"
      ],
      "execution_count": null,
      "outputs": []
    },
    {
      "cell_type": "code",
      "metadata": {
        "id": "ckun79D0QfZc",
        "colab_type": "code",
        "colab": {}
      },
      "source": [
        "cases = np.load"
      ],
      "execution_count": null,
      "outputs": []
    }
  ]
}